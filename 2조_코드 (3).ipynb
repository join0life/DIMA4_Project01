{
 "cells": [
  {
   "cell_type": "code",
   "execution_count": 40,
   "id": "0e2603fb-64d8-425a-8671-15a92ea1dd3b",
   "metadata": {},
   "outputs": [],
   "source": [
    "import pandas as pd ; import numpy as np ; import matplotlib.pyplot as plt ; import tensorflow as tf ; from sklearn.preprocessing import RobustScaler ; from sklearn.metrics import mean_squared_error, r2_score ; from tensorflow.keras.models import Sequential ; from tensorflow.keras.layers import LSTM, Dense ; from tensorflow.keras.models import load_model"
   ]
  },
  {
   "cell_type": "code",
   "execution_count": 41,
   "id": "a5860375-4736-4865-ac7d-131f5abd33ba",
   "metadata": {
    "jupyter": {
     "source_hidden": true
    }
   },
   "outputs": [],
   "source": [
    "def multivariate_data(dataset, target, start_index, end_index, history_size, target_size, step, single_step=False):\n",
    "    data = [] # 독립변수 저장\n",
    "    labels = [] # 종속변수 저장\n",
    "\n",
    "    start_index = start_index + history_size\n",
    "    if end_index is None: # 검증 데이터 분할 할 때, end_index를 None으로 지정(즉, 데이터셋 끝까지 추출하겠다는 의미)\n",
    "        # 데이터셋 내에 더이상 타겟 값으로 사용할 미래 데이터가 없기 때문에 미래 시간만큼 차감\n",
    "        end_index = len(dataset) - target_size\n",
    "    # ex) start_index = 0, history_size = 720\n",
    "    for i in range(start_index, end_index): # (720, 300000)\n",
    "        indexes = range(i - history_size, i, step) # 1st data indexes: range(720-720, 720, 6)\n",
    "        data.append(dataset[indexes])\n",
    "\n",
    "        if single_step:\n",
    "            labels.append(target[i+target_size]) # target[720+72] -> 12시간 후의 기온 예측\n",
    "        else: # 미래의 연속된 구간의 기온 예측\n",
    "            labels.append(target[i:i+target_size]) # target[720:720+72] -> 12시간 동안의 기온 예측\n",
    "\n",
    "    return np.array(data), np.array(labels)"
   ]
  },
  {
   "cell_type": "code",
   "execution_count": 42,
   "id": "4c5914cd-6fce-4e56-847e-7303a31d5bbc",
   "metadata": {
    "jupyter": {
     "source_hidden": true
    }
   },
   "outputs": [],
   "source": [
    "def plot_train_history(history, title) :\n",
    "    loss = history.history['loss']\n",
    "    val_loss = history.history['val_loss']\n",
    "\n",
    "    epoch = range(len(loss))\n",
    "    plt.plot(epoch, loss, 'b', label='Traing loss')\n",
    "    plt.plot(epoch, val_loss, 'r', label='Val loss')\n",
    "    plt.legend()\n",
    "    plt.title(title)\n",
    "    plt.show()"
   ]
  },
  {
   "cell_type": "code",
   "execution_count": 43,
   "id": "93be6182-040c-40d1-8306-6dfed05f71e5",
   "metadata": {
    "jupyter": {
     "source_hidden": true
    }
   },
   "outputs": [],
   "source": [
    "# 그래프의 x축 좌표 값 생성\n",
    "def create_time_steps(length):\n",
    "    return list(range(-length, 0))\n",
    "\n",
    "# plot_data: [5일간 기온 데이터, 12시간 후 기온 데이터, 예측 값]\n",
    "# delta: 미래 예측 지점\n",
    "# title: 그래프 제목\n",
    "def show_plot(plot_data, delta, title):\n",
    "    labels = ['History', 'True Future', 'Model Prediction']\n",
    "    marker = ['.-', 'rx', 'go']\n",
    "    plt.figure(figsize=(12,6))\n",
    "    time_steps = create_time_steps(plot_data[0].shape[0])\n",
    "    if delta:\n",
    "        future = delta\n",
    "    else:\n",
    "        future = 0\n",
    "\n",
    "    plt.title(title)\n",
    "    for i, x in enumerate(plot_data):\n",
    "        if i:\n",
    "            plt.plot(future, plot_data[i], marker[i], markersize=10, label=labels[i])\n",
    "        else:\n",
    "            plt.plot(time_steps, plot_data[i].flatten(), marker[i], label=labels[i])\n",
    "    plt.legend()\n",
    "    plt.axis('auto')\n",
    "    plt.xlim([time_steps[0], (future+5)*2])\n",
    "    plt.xlabel('Time-Step')\n",
    "    return plt"
   ]
  },
  {
   "cell_type": "code",
   "execution_count": 44,
   "id": "6f2e8b83-5b44-4d2b-a9e6-8240a0f02487",
   "metadata": {},
   "outputs": [],
   "source": [
    "def multi_step_plot(history, true_future, prediction):\n",
    "    plt.figure(figsize=(12, 6))\n",
    "    num_in = create_time_steps(len(history))\n",
    "    num_out = len(true_future)\n",
    "    \n",
    "    # history[:, 1] : 3개의 독립변 수 중 2번째 컬럼이 기온 데이터\n",
    "    plt.plot(num_in, np.array(history[:,1]), label='History')\n",
    "    plt.plot(np.arange(num_out)/STEP, np.array(true_future), 'b:o', label='True Future')\n",
    "    if prediction.any(): # 값이 있으면...\n",
    "        plt.plot(np.arange(num_out)/STEP, np.array(prediction), 'r:o', label='Predicted Future')\n",
    "    plt.legend()\n",
    "    plt.show()"
   ]
  },
  {
   "cell_type": "code",
   "execution_count": 45,
   "id": "668b610a-5f3d-4ce4-858f-d9a3897255d2",
   "metadata": {},
   "outputs": [],
   "source": [
    "df = pd.read_excel('(미국일본)김밥&김_관심도수출량수출액_수정.xlsx')"
   ]
  },
  {
   "cell_type": "code",
   "execution_count": 46,
   "id": "e3fb8eef-1e18-4b65-b131-cf0008c94df0",
   "metadata": {},
   "outputs": [
    {
     "data": {
      "text/html": [
       "<div>\n",
       "<style scoped>\n",
       "    .dataframe tbody tr th:only-of-type {\n",
       "        vertical-align: middle;\n",
       "    }\n",
       "\n",
       "    .dataframe tbody tr th {\n",
       "        vertical-align: top;\n",
       "    }\n",
       "\n",
       "    .dataframe thead th {\n",
       "        text-align: right;\n",
       "    }\n",
       "</style>\n",
       "<table border=\"1\" class=\"dataframe\">\n",
       "  <thead>\n",
       "    <tr style=\"text-align: right;\">\n",
       "      <th></th>\n",
       "      <th>Unnamed: 0</th>\n",
       "      <th>kimbap: (미국)_관심도_웹</th>\n",
       "      <th>seaweed: (미국)_관심도_웹</th>\n",
       "      <th>kimbap: (미국)_관심도_유튜브</th>\n",
       "      <th>seaweed: (미국)_관심도_유튜브</th>\n",
       "      <th>キンパ: (일본)_관심도_웹</th>\n",
       "      <th>のり: (일본)_관심도_웹</th>\n",
       "      <th>キンパ: (일본)_관심도_유튜브</th>\n",
       "      <th>のり: (일본)_관심도_유튜브</th>\n",
       "      <th>수출(중량)</th>\n",
       "      <th>수출(금액)</th>\n",
       "      <th>수입(중량)</th>\n",
       "      <th>수입(금액)</th>\n",
       "      <th>성장률</th>\n",
       "    </tr>\n",
       "  </thead>\n",
       "  <tbody>\n",
       "    <tr>\n",
       "      <th>0</th>\n",
       "      <td>2007-02-01</td>\n",
       "      <td>0</td>\n",
       "      <td>12</td>\n",
       "      <td>0</td>\n",
       "      <td>0</td>\n",
       "      <td>0</td>\n",
       "      <td>26</td>\n",
       "      <td>0</td>\n",
       "      <td>0</td>\n",
       "      <td>500432.0</td>\n",
       "      <td>4465136</td>\n",
       "      <td>0.0</td>\n",
       "      <td>0</td>\n",
       "      <td>0.86</td>\n",
       "    </tr>\n",
       "    <tr>\n",
       "      <th>1</th>\n",
       "      <td>2007-03-01</td>\n",
       "      <td>1</td>\n",
       "      <td>12</td>\n",
       "      <td>0</td>\n",
       "      <td>0</td>\n",
       "      <td>0</td>\n",
       "      <td>22</td>\n",
       "      <td>0</td>\n",
       "      <td>0</td>\n",
       "      <td>524228.8</td>\n",
       "      <td>4351639</td>\n",
       "      <td>1978.0</td>\n",
       "      <td>41283</td>\n",
       "      <td>0.97</td>\n",
       "    </tr>\n",
       "    <tr>\n",
       "      <th>2</th>\n",
       "      <td>2007-04-01</td>\n",
       "      <td>0</td>\n",
       "      <td>14</td>\n",
       "      <td>0</td>\n",
       "      <td>0</td>\n",
       "      <td>0</td>\n",
       "      <td>23</td>\n",
       "      <td>0</td>\n",
       "      <td>0</td>\n",
       "      <td>627037.5</td>\n",
       "      <td>4601312</td>\n",
       "      <td>3216.0</td>\n",
       "      <td>29886</td>\n",
       "      <td>1.05</td>\n",
       "    </tr>\n",
       "  </tbody>\n",
       "</table>\n",
       "</div>"
      ],
      "text/plain": [
       "  Unnamed: 0  kimbap: (미국)_관심도_웹  seaweed: (미국)_관심도_웹  kimbap: (미국)_관심도_유튜브  \\\n",
       "0 2007-02-01                   0                   12                     0   \n",
       "1 2007-03-01                   1                   12                     0   \n",
       "2 2007-04-01                   0                   14                     0   \n",
       "\n",
       "   seaweed: (미국)_관심도_유튜브  キンパ: (일본)_관심도_웹  のり: (일본)_관심도_웹  キンパ: (일본)_관심도_유튜브  \\\n",
       "0                      0                0              26                  0   \n",
       "1                      0                0              22                  0   \n",
       "2                      0                0              23                  0   \n",
       "\n",
       "   のり: (일본)_관심도_유튜브    수출(중량)   수출(금액)  수입(중량)  수입(금액)   성장률  \n",
       "0                 0  500432.0  4465136     0.0       0  0.86  \n",
       "1                 0  524228.8  4351639  1978.0   41283  0.97  \n",
       "2                 0  627037.5  4601312  3216.0   29886  1.05  "
      ]
     },
     "execution_count": 46,
     "metadata": {},
     "output_type": "execute_result"
    }
   ],
   "source": [
    "df.head(3)"
   ]
  },
  {
   "cell_type": "code",
   "execution_count": 47,
   "id": "f0695e80-210c-42e5-be7d-f030f5ce9a21",
   "metadata": {},
   "outputs": [],
   "source": [
    "from sklearn.preprocessing import MinMaxScaler\n",
    "\n",
    "# Initialize the specific scalers for each column\n",
    "one_scaler = RobustScaler()\n",
    "two_scaler = RobustScaler()\n",
    "three_scaler = RobustScaler()\n",
    "four_scaler = RobustScaler()\n",
    "five_scaler = RobustScaler()\n",
    "\n",
    "# Apply the scalers to the respective columns\n",
    "scaled_data = {\n",
    "    'seaweed: (미국)_관심도_웹': one_scaler.fit_transform(df[['seaweed: (미국)_관심도_웹']]).flatten(),\n",
    "    'kimbap: (미국)_관심도_웹': two_scaler.fit_transform(df[['kimbap: (미국)_관심도_웹']]).flatten(),\n",
    "    'キンパ: (일본)_관심도_웹': three_scaler.fit_transform(df[['キンパ: (일본)_관심도_웹']]).flatten(),\n",
    "    'kimbap: (미국)_관심도_유튜브': four_scaler.fit_transform(df[['kimbap: (미국)_관심도_유튜브']]).flatten(),\n",
    "    '수출(금액)': five_scaler.fit_transform(df[['수출(금액)']]).flatten()\n",
    "    }\n",
    "# Combine the scaled columns back into a dataframe\n",
    "scaled_selected_df = pd.DataFrame(scaled_data, columns=scaled_data.keys())\n",
    "scaled_selected_df['Unnamed: 0'] = df['Unnamed: 0']"
   ]
  },
  {
   "cell_type": "code",
   "execution_count": 48,
   "id": "6ae9cda0-45d4-471a-aecf-3b78e8731342",
   "metadata": {},
   "outputs": [],
   "source": [
    "scaled_selected_df.set_index('Unnamed: 0', inplace=True)"
   ]
  },
  {
   "cell_type": "code",
   "execution_count": 49,
   "id": "cd884f54-6914-488f-a58b-63f47cc12184",
   "metadata": {},
   "outputs": [
    {
     "data": {
      "text/html": [
       "<div>\n",
       "<style scoped>\n",
       "    .dataframe tbody tr th:only-of-type {\n",
       "        vertical-align: middle;\n",
       "    }\n",
       "\n",
       "    .dataframe tbody tr th {\n",
       "        vertical-align: top;\n",
       "    }\n",
       "\n",
       "    .dataframe thead th {\n",
       "        text-align: right;\n",
       "    }\n",
       "</style>\n",
       "<table border=\"1\" class=\"dataframe\">\n",
       "  <thead>\n",
       "    <tr style=\"text-align: right;\">\n",
       "      <th></th>\n",
       "      <th>seaweed: (미국)_관심도_웹</th>\n",
       "      <th>kimbap: (미국)_관심도_웹</th>\n",
       "      <th>キンパ: (일본)_관심도_웹</th>\n",
       "      <th>kimbap: (미국)_관심도_유튜브</th>\n",
       "      <th>수출(금액)</th>\n",
       "    </tr>\n",
       "    <tr>\n",
       "      <th>Unnamed: 0</th>\n",
       "      <th></th>\n",
       "      <th></th>\n",
       "      <th></th>\n",
       "      <th></th>\n",
       "      <th></th>\n",
       "    </tr>\n",
       "  </thead>\n",
       "  <tbody>\n",
       "    <tr>\n",
       "      <th>2007-02-01</th>\n",
       "      <td>-0.851064</td>\n",
       "      <td>-1.0</td>\n",
       "      <td>-0.333333</td>\n",
       "      <td>0.0</td>\n",
       "      <td>-0.602371</td>\n",
       "    </tr>\n",
       "    <tr>\n",
       "      <th>2007-03-01</th>\n",
       "      <td>-0.851064</td>\n",
       "      <td>0.0</td>\n",
       "      <td>-0.333333</td>\n",
       "      <td>0.0</td>\n",
       "      <td>-0.605578</td>\n",
       "    </tr>\n",
       "    <tr>\n",
       "      <th>2007-04-01</th>\n",
       "      <td>-0.680851</td>\n",
       "      <td>-1.0</td>\n",
       "      <td>-0.333333</td>\n",
       "      <td>0.0</td>\n",
       "      <td>-0.598522</td>\n",
       "    </tr>\n",
       "  </tbody>\n",
       "</table>\n",
       "</div>"
      ],
      "text/plain": [
       "            seaweed: (미국)_관심도_웹  kimbap: (미국)_관심도_웹  キンパ: (일본)_관심도_웹  \\\n",
       "Unnamed: 0                                                             \n",
       "2007-02-01            -0.851064                -1.0        -0.333333   \n",
       "2007-03-01            -0.851064                 0.0        -0.333333   \n",
       "2007-04-01            -0.680851                -1.0        -0.333333   \n",
       "\n",
       "            kimbap: (미국)_관심도_유튜브    수출(금액)  \n",
       "Unnamed: 0                                  \n",
       "2007-02-01                   0.0 -0.602371  \n",
       "2007-03-01                   0.0 -0.605578  \n",
       "2007-04-01                   0.0 -0.598522  "
      ]
     },
     "execution_count": 49,
     "metadata": {},
     "output_type": "execute_result"
    }
   ],
   "source": [
    "scaled_selected_df.head(3)"
   ]
  },
  {
   "cell_type": "code",
   "execution_count": 50,
   "id": "698306db-21ec-4c43-bb8a-bede573d22c6",
   "metadata": {},
   "outputs": [],
   "source": [
    "dataset = scaled_selected_df.values"
   ]
  },
  {
   "cell_type": "code",
   "execution_count": 51,
   "id": "798a4c10-a382-4e15-a50f-a6db9d02a2bc",
   "metadata": {},
   "outputs": [],
   "source": [
    "TRAIN_SPLIT = int(len(scaled_selected_df)*0.8) \n",
    "past_history = 12\n",
    "future_target = 12\n",
    "STEP = 1\n",
    "\n",
    "x_train_multi, y_train_multi = multivariate_data(dataset, target=dataset[:,-1], start_index=0, end_index=TRAIN_SPLIT, history_size=past_history, target_size=future_target, step=STEP, single_step=False)\n",
    "\n",
    "x_val_multi, y_val_multi = multivariate_data(dataset, target=dataset[:,-1], start_index=TRAIN_SPLIT, end_index=None, history_size=past_history, target_size=future_target, step=STEP, single_step=False)"
   ]
  },
  {
   "cell_type": "code",
   "execution_count": 52,
   "id": "81dd9776-8880-47c2-bfa4-2033533a3118",
   "metadata": {},
   "outputs": [],
   "source": [
    "BATCH_SIZE = 8 ; EPOCH = 100  ; BUFFER_SIZE = 10000 ; STEPS_PER_EPOCH = len(x_train_multi) / BATCH_SIZE \n",
    "\n",
    "train_data_multi = tf.data.Dataset.from_tensor_slices((x_train_multi, y_train_multi))\n",
    "train_data_multi = train_data_multi.cache().shuffle(BUFFER_SIZE).batch(BATCH_SIZE, drop_remainder=True).repeat()\n",
    "\n",
    "\n",
    "val_data_multi = tf.data.Dataset.from_tensor_slices((x_val_multi, y_val_multi))\n",
    "val_data_multi = val_data_multi.cache().shuffle(BUFFER_SIZE).batch(BATCH_SIZE, drop_remainder=True).repeat()"
   ]
  },
  {
   "cell_type": "code",
   "execution_count": 53,
   "id": "de91b80a-67a2-40f9-afce-37365a21200f",
   "metadata": {
    "scrolled": true
   },
   "outputs": [
    {
     "name": "stdout",
     "output_type": "stream",
     "text": [
      "Epoch 1/100\n",
      "19/19 [==============================] - 8s 96ms/step - loss: 0.3227 - val_loss: 0.8169\n",
      "Epoch 2/100\n",
      "19/19 [==============================] - 0s 11ms/step - loss: 0.2398 - val_loss: 0.6892\n",
      "Epoch 3/100\n",
      "19/19 [==============================] - 0s 10ms/step - loss: 0.2076 - val_loss: 0.6362\n",
      "Epoch 4/100\n",
      "19/19 [==============================] - 0s 10ms/step - loss: 0.1894 - val_loss: 0.5946\n",
      "Epoch 5/100\n",
      "19/19 [==============================] - 1s 74ms/step - loss: 0.1834 - val_loss: 0.5599\n",
      "Epoch 6/100\n",
      "19/19 [==============================] - 0s 11ms/step - loss: 0.1710 - val_loss: 0.5149\n",
      "Epoch 7/100\n",
      "19/19 [==============================] - 0s 10ms/step - loss: 0.1647 - val_loss: 0.4946\n",
      "Epoch 8/100\n",
      "19/19 [==============================] - 0s 11ms/step - loss: 0.1557 - val_loss: 0.5171\n",
      "Epoch 9/100\n",
      "19/19 [==============================] - 0s 10ms/step - loss: 0.1503 - val_loss: 0.4641\n",
      "Epoch 10/100\n",
      "19/19 [==============================] - 0s 11ms/step - loss: 0.1411 - val_loss: 0.3647\n",
      "Epoch 11/100\n",
      "19/19 [==============================] - 0s 11ms/step - loss: 0.1334 - val_loss: 0.3159\n",
      "Epoch 12/100\n",
      "19/19 [==============================] - 0s 10ms/step - loss: 0.1270 - val_loss: 0.3173\n",
      "Epoch 13/100\n",
      "19/19 [==============================] - 0s 11ms/step - loss: 0.1300 - val_loss: 0.3982\n",
      "Epoch 14/100\n",
      "19/19 [==============================] - 0s 11ms/step - loss: 0.1249 - val_loss: 0.3431\n",
      "Epoch 15/100\n",
      "19/19 [==============================] - 0s 10ms/step - loss: 0.1217 - val_loss: 0.3302\n",
      "Epoch 16/100\n",
      "19/19 [==============================] - 0s 10ms/step - loss: 0.1219 - val_loss: 0.3124\n",
      "Epoch 17/100\n",
      "19/19 [==============================] - 0s 11ms/step - loss: 0.1214 - val_loss: 0.3829\n",
      "Epoch 18/100\n",
      "19/19 [==============================] - 0s 10ms/step - loss: 0.1212 - val_loss: 0.3661\n",
      "Epoch 19/100\n",
      "19/19 [==============================] - 0s 10ms/step - loss: 0.1214 - val_loss: 0.3600\n",
      "Epoch 20/100\n",
      "19/19 [==============================] - 0s 10ms/step - loss: 0.1217 - val_loss: 0.3882\n",
      "Epoch 21/100\n",
      "19/19 [==============================] - 0s 10ms/step - loss: 0.1180 - val_loss: 0.3460\n",
      "Epoch 22/100\n",
      "19/19 [==============================] - 0s 13ms/step - loss: 0.1193 - val_loss: 0.4051\n",
      "Epoch 23/100\n",
      "19/19 [==============================] - 0s 11ms/step - loss: 0.1211 - val_loss: 0.3363\n",
      "Epoch 24/100\n",
      "19/19 [==============================] - 0s 10ms/step - loss: 0.1185 - val_loss: 0.2897\n",
      "Epoch 25/100\n",
      "19/19 [==============================] - 0s 11ms/step - loss: 0.1190 - val_loss: 0.2953\n",
      "Epoch 26/100\n",
      "19/19 [==============================] - 0s 10ms/step - loss: 0.1193 - val_loss: 0.3214\n",
      "Epoch 27/100\n",
      "19/19 [==============================] - 0s 10ms/step - loss: 0.1183 - val_loss: 0.3353\n",
      "Epoch 28/100\n",
      "19/19 [==============================] - 0s 10ms/step - loss: 0.1191 - val_loss: 0.3145\n",
      "Epoch 29/100\n",
      "19/19 [==============================] - 0s 11ms/step - loss: 0.1170 - val_loss: 0.3139\n",
      "Epoch 30/100\n",
      "19/19 [==============================] - 0s 11ms/step - loss: 0.1164 - val_loss: 0.3149\n",
      "Epoch 31/100\n",
      "19/19 [==============================] - 0s 10ms/step - loss: 0.1151 - val_loss: 0.3186\n",
      "Epoch 32/100\n",
      "19/19 [==============================] - 0s 10ms/step - loss: 0.1161 - val_loss: 0.3085\n",
      "Epoch 33/100\n",
      "19/19 [==============================] - 0s 11ms/step - loss: 0.1146 - val_loss: 0.3017\n",
      "Epoch 34/100\n",
      "19/19 [==============================] - 0s 10ms/step - loss: 0.1159 - val_loss: 0.3178\n",
      "Epoch 35/100\n",
      "19/19 [==============================] - 0s 10ms/step - loss: 0.1151 - val_loss: 0.3505\n",
      "Epoch 36/100\n",
      "19/19 [==============================] - 0s 11ms/step - loss: 0.1154 - val_loss: 0.3156\n",
      "Epoch 37/100\n",
      "19/19 [==============================] - 0s 13ms/step - loss: 0.1138 - val_loss: 0.3111\n",
      "Epoch 38/100\n",
      "19/19 [==============================] - 0s 10ms/step - loss: 0.1122 - val_loss: 0.3401\n",
      "Epoch 39/100\n",
      "19/19 [==============================] - 0s 11ms/step - loss: 0.1118 - val_loss: 0.3090\n",
      "Epoch 40/100\n",
      "19/19 [==============================] - 0s 10ms/step - loss: 0.1074 - val_loss: 0.3008\n",
      "Epoch 41/100\n",
      "19/19 [==============================] - 0s 11ms/step - loss: 0.1082 - val_loss: 0.3546\n",
      "Epoch 42/100\n",
      "19/19 [==============================] - 0s 10ms/step - loss: 0.1053 - val_loss: 0.3153\n",
      "Epoch 43/100\n",
      "19/19 [==============================] - 0s 11ms/step - loss: 0.1030 - val_loss: 0.3067\n",
      "Epoch 44/100\n",
      "19/19 [==============================] - 0s 10ms/step - loss: 0.1012 - val_loss: 0.2961\n",
      "Epoch 45/100\n",
      "19/19 [==============================] - 0s 11ms/step - loss: 0.0997 - val_loss: 0.3130\n",
      "Epoch 46/100\n",
      "19/19 [==============================] - 0s 10ms/step - loss: 0.0965 - val_loss: 0.3130\n",
      "Epoch 47/100\n",
      "19/19 [==============================] - 0s 11ms/step - loss: 0.0964 - val_loss: 0.3213\n",
      "Epoch 48/100\n",
      "19/19 [==============================] - 0s 10ms/step - loss: 0.0983 - val_loss: 0.3110\n",
      "Epoch 49/100\n",
      "19/19 [==============================] - 0s 11ms/step - loss: 0.0956 - val_loss: 0.3496\n",
      "Epoch 50/100\n",
      "19/19 [==============================] - 0s 12ms/step - loss: 0.0923 - val_loss: 0.3410\n",
      "Epoch 51/100\n",
      "19/19 [==============================] - 0s 11ms/step - loss: 0.0923 - val_loss: 0.3082\n",
      "Epoch 52/100\n",
      "19/19 [==============================] - 0s 10ms/step - loss: 0.0912 - val_loss: 0.3190\n",
      "Epoch 53/100\n",
      "19/19 [==============================] - 0s 11ms/step - loss: 0.0916 - val_loss: 0.3023\n",
      "Epoch 54/100\n",
      "19/19 [==============================] - 0s 11ms/step - loss: 0.0913 - val_loss: 0.3058\n",
      "Epoch 55/100\n",
      "19/19 [==============================] - 0s 14ms/step - loss: 0.0930 - val_loss: 0.3042\n",
      "Epoch 56/100\n",
      "19/19 [==============================] - 0s 10ms/step - loss: 0.0877 - val_loss: 0.3089\n",
      "Epoch 57/100\n",
      "19/19 [==============================] - 0s 10ms/step - loss: 0.0897 - val_loss: 0.3235\n",
      "Epoch 58/100\n",
      "19/19 [==============================] - 0s 10ms/step - loss: 0.0895 - val_loss: 0.3043\n",
      "Epoch 59/100\n",
      "19/19 [==============================] - 0s 10ms/step - loss: 0.0889 - val_loss: 0.2965\n",
      "Epoch 60/100\n",
      "19/19 [==============================] - 0s 10ms/step - loss: 0.0874 - val_loss: 0.2986\n",
      "Epoch 61/100\n",
      "19/19 [==============================] - 0s 10ms/step - loss: 0.0877 - val_loss: 0.3108\n",
      "Epoch 62/100\n",
      "19/19 [==============================] - 0s 10ms/step - loss: 0.0849 - val_loss: 0.3092\n",
      "Epoch 63/100\n",
      "19/19 [==============================] - 0s 10ms/step - loss: 0.0844 - val_loss: 0.3295\n",
      "Epoch 64/100\n",
      "19/19 [==============================] - 0s 10ms/step - loss: 0.0869 - val_loss: 0.3030\n",
      "Epoch 65/100\n",
      "19/19 [==============================] - 0s 13ms/step - loss: 0.0842 - val_loss: 0.3197\n",
      "Epoch 66/100\n",
      "19/19 [==============================] - 0s 10ms/step - loss: 0.0832 - val_loss: 0.2979\n",
      "Epoch 67/100\n",
      "19/19 [==============================] - 0s 10ms/step - loss: 0.0835 - val_loss: 0.3080\n",
      "Epoch 68/100\n",
      "19/19 [==============================] - 0s 10ms/step - loss: 0.0854 - val_loss: 0.3129\n",
      "Epoch 69/100\n",
      "19/19 [==============================] - 0s 10ms/step - loss: 0.0830 - val_loss: 0.3243\n",
      "Epoch 70/100\n",
      "19/19 [==============================] - 0s 11ms/step - loss: 0.0826 - val_loss: 0.3022\n",
      "Epoch 71/100\n",
      "19/19 [==============================] - 0s 11ms/step - loss: 0.0832 - val_loss: 0.3258\n",
      "Epoch 72/100\n",
      "19/19 [==============================] - 0s 11ms/step - loss: 0.0809 - val_loss: 0.3161\n",
      "Epoch 73/100\n",
      "19/19 [==============================] - 0s 11ms/step - loss: 0.0850 - val_loss: 0.3178\n",
      "Epoch 74/100\n",
      "19/19 [==============================] - 0s 11ms/step - loss: 0.0847 - val_loss: 0.3195\n",
      "Epoch 75/100\n",
      "19/19 [==============================] - 0s 10ms/step - loss: 0.0824 - val_loss: 0.2946\n",
      "Epoch 76/100\n",
      "19/19 [==============================] - 0s 11ms/step - loss: 0.0838 - val_loss: 0.3161\n",
      "Epoch 77/100\n",
      "19/19 [==============================] - 0s 11ms/step - loss: 0.0820 - val_loss: 0.3214\n",
      "Epoch 78/100\n",
      "19/19 [==============================] - 0s 11ms/step - loss: 0.0833 - val_loss: 0.3317\n",
      "Epoch 79/100\n",
      "19/19 [==============================] - 0s 11ms/step - loss: 0.0824 - val_loss: 0.2809\n",
      "Epoch 80/100\n",
      "19/19 [==============================] - 0s 11ms/step - loss: 0.0822 - val_loss: 0.3144\n",
      "Epoch 81/100\n",
      "19/19 [==============================] - 0s 11ms/step - loss: 0.0827 - val_loss: 0.3072\n",
      "Epoch 82/100\n",
      "19/19 [==============================] - 0s 11ms/step - loss: 0.0815 - val_loss: 0.2994\n",
      "Epoch 83/100\n",
      "19/19 [==============================] - 0s 11ms/step - loss: 0.0814 - val_loss: 0.2978\n",
      "Epoch 84/100\n",
      "19/19 [==============================] - 0s 13ms/step - loss: 0.0824 - val_loss: 0.3080\n",
      "Epoch 85/100\n",
      "19/19 [==============================] - 0s 11ms/step - loss: 0.0815 - val_loss: 0.3384\n",
      "Epoch 86/100\n",
      "19/19 [==============================] - 0s 10ms/step - loss: 0.0812 - val_loss: 0.2998\n",
      "Epoch 87/100\n",
      "19/19 [==============================] - 0s 10ms/step - loss: 0.0795 - val_loss: 0.2982\n",
      "Epoch 88/100\n",
      "19/19 [==============================] - 0s 11ms/step - loss: 0.0804 - val_loss: 0.3167\n",
      "Epoch 89/100\n",
      "19/19 [==============================] - 0s 10ms/step - loss: 0.0801 - val_loss: 0.3068\n",
      "Epoch 90/100\n",
      "19/19 [==============================] - 0s 11ms/step - loss: 0.0801 - val_loss: 0.2994\n",
      "Epoch 91/100\n",
      "19/19 [==============================] - 0s 11ms/step - loss: 0.0801 - val_loss: 0.3097\n",
      "Epoch 92/100\n",
      "19/19 [==============================] - 0s 14ms/step - loss: 0.0792 - val_loss: 0.3114\n",
      "Epoch 93/100\n",
      "19/19 [==============================] - 0s 11ms/step - loss: 0.0808 - val_loss: 0.3188\n",
      "Epoch 94/100\n",
      "19/19 [==============================] - 0s 10ms/step - loss: 0.0808 - val_loss: 0.3183\n",
      "Epoch 95/100\n",
      "19/19 [==============================] - 0s 10ms/step - loss: 0.0793 - val_loss: 0.3232\n",
      "Epoch 96/100\n",
      "19/19 [==============================] - 0s 10ms/step - loss: 0.0798 - val_loss: 0.3093\n",
      "Epoch 97/100\n",
      "19/19 [==============================] - 0s 11ms/step - loss: 0.0826 - val_loss: 0.3559\n",
      "Epoch 98/100\n",
      "19/19 [==============================] - 0s 10ms/step - loss: 0.0811 - val_loss: 0.3143\n",
      "Epoch 99/100\n",
      "19/19 [==============================] - 0s 10ms/step - loss: 0.0819 - val_loss: 0.3100\n",
      "Epoch 100/100\n",
      "19/19 [==============================] - 0s 11ms/step - loss: 0.0808 - val_loss: 0.3113\n"
     ]
    }
   ],
   "source": [
    "multi_step_model = tf.keras.models.Sequential()\n",
    "multi_step_model.add(tf.keras.layers.LSTM(64, input_shape=x_train_multi.shape[-2:], return_sequences=True))\n",
    "multi_step_model.add(tf.keras.layers.Dropout(0.2))\n",
    "multi_step_model.add(tf.keras.layers.LSTM(32, return_sequences=True))\n",
    "multi_step_model.add(tf.keras.layers.Dropout(0.2))\n",
    "multi_step_model.add(tf.keras.layers.LSTM(16, activation='relu'))\n",
    "multi_step_model.add(tf.keras.layers.Dense(12))\n",
    "multi_step_model.compile(optimizer=tf.keras.optimizers.Adam(), loss='mae')\n",
    "\n",
    "multi_step_history = multi_step_model.fit(train_data_multi, epochs=EPOCH, steps_per_epoch=STEPS_PER_EPOCH, validation_data=val_data_multi, validation_steps=5)"
   ]
  },
  {
   "cell_type": "code",
   "execution_count": null,
   "id": "8dfdf43c-0dad-4aee-90d9-d024d38fc453",
   "metadata": {
    "scrolled": true
   },
   "outputs": [],
   "source": [
    "multi_step_model = tf.keras.models.Sequential()\n",
    "multi_step_model.add(tf.keras.layers.LSTM(32, input_shape=x_train_multi.shape[-2:],return_sequences=True)) # TensorShape : [256,120,3]\n",
    "# 싱글 스텝 예측보다는 복잡하기 때문에 LSTM을 두 개의 층으로 구성\n",
    "multi_step_model.add(tf.keras.layers.LSTM(16, activation='relu'))\n",
    "# 미래의 3달 동안의 온도를 예측해야 해서 출력값을 3로 설정\n",
    "multi_step_model.add(tf.keras.layers.Dense(12))\n",
    "multi_step_model.compile(optimizer=tf.keras.optimizers.RMSprop(), loss = 'mae')\n",
    "\n",
    "# validation_steps : 1 epoch에서 이뤄질 검증 횟수\n",
    "# stpes_per_epoch : 1 epoch에서 사용할 batch의 갯수\n",
    "multi_step_history = multi_step_model.fit(train_data_multi, epochs=EPOCH, steps_per_epoch=STEPS_PER_EPOCH, validation_data=val_data_multi, validation_steps=5)"
   ]
  },
  {
   "cell_type": "code",
   "execution_count": 54,
   "id": "627d54d0-a241-499b-b12f-06c5bd9acfee",
   "metadata": {},
   "outputs": [
    {
     "data": {
      "image/png": "[encoded data removed]",
      "text/plain": [
       "<Figure size 640x480 with 1 Axes>"
      ]
     },
     "metadata": {},
     "output_type": "display_data"
    }
   ],
   "source": [
    "plot_train_history(multi_step_history, 'Multi Step Training and Validation Loss')"
   ]
  },
  {
   "cell_type": "code",
   "execution_count": 55,
   "id": "6afbaf13-f2cf-4401-931d-f35304150988",
   "metadata": {},
   "outputs": [
    {
     "name": "stdout",
     "output_type": "stream",
     "text": [
      "12/12 [==============================] - 2s 4ms/step\n"
     ]
    }
   ],
   "source": [
    "y_hat = multi_step_model.predict(val_data_multi, steps=12)"
   ]
  },
  {
   "cell_type": "code",
   "execution_count": 56,
   "id": "67658c91-9b93-4220-acf0-d6e672c136e1",
   "metadata": {},
   "outputs": [
    {
     "name": "stdout",
     "output_type": "stream",
     "text": [
      "(8, 12, 5) (8, 12)\n",
      "(8, 12, 5) (8, 12)\n",
      "(8, 12, 5) (8, 12)\n"
     ]
    }
   ],
   "source": [
    "for x,y in val_data_multi.take(3) :\n",
    "    print(x.shape, y.shape)"
   ]
  },
  {
   "cell_type": "code",
   "execution_count": 57,
   "id": "05b43103-7daf-438f-b991-ca1ea8a03f54",
   "metadata": {},
   "outputs": [
    {
     "name": "stdout",
     "output_type": "stream",
     "text": [
      "1/1 [==============================] - 2s 2s/step\n"
     ]
    },
    {
     "data": {
      "image/png": "[encoded data removed]",
      "text/plain": [
       "<Figure size 1200x600 with 1 Axes>"
      ]
     },
     "metadata": {},
     "output_type": "display_data"
    },
    {
     "name": "stdout",
     "output_type": "stream",
     "text": [
      "tf.Tensor(\n",
      "[1.03207685 1.53381995 1.20925615 1.2401951  1.44322784 1.16747281\n",
      " 1.21708543 1.14265723 1.09269277 1.02352794 0.92586068 1.43651731], shape=(12,), dtype=float64)\n",
      "1/1 [==============================] - 0s 30ms/step\n"
     ]
    },
    {
     "data": {
      "image/png": "[encoded data removed]",
      "text/plain": [
       "<Figure size 1200x600 with 1 Axes>"
      ]
     },
     "metadata": {},
     "output_type": "display_data"
    },
    {
     "name": "stdout",
     "output_type": "stream",
     "text": [
      "tf.Tensor(\n",
      "[0.85670136 1.06067813 1.15570885 0.99719298 0.92249284 1.04144416\n",
      " 1.00053412 0.94734847 1.10248696 0.62595868 0.7098664  0.57426641], shape=(12,), dtype=float64)\n",
      "1/1 [==============================] - 0s 35ms/step\n"
     ]
    },
    {
     "data": {
      "image/png": "[encoded data removed]",
      "text/plain": [
       "<Figure size 1200x600 with 1 Axes>"
      ]
     },
     "metadata": {},
     "output_type": "display_data"
    },
    {
     "name": "stdout",
     "output_type": "stream",
     "text": [
      "tf.Tensor(\n",
      "[1.03207685 1.53381995 1.20925615 1.2401951  1.44322784 1.16747281\n",
      " 1.21708543 1.14265723 1.09269277 1.02352794 0.92586068 1.43651731], shape=(12,), dtype=float64)\n"
     ]
    }
   ],
   "source": [
    "for x, y in val_data_multi.take(3) :\n",
    "    multi_step_plot(x[0], y[0], multi_step_model.predict(x)[0])\n",
    "    print(y[0])\n",
    "    plt.show()"
   ]
  },
  {
   "cell_type": "code",
   "execution_count": 58,
   "id": "a5cf61f2-5f4b-42d5-b697-d336b3183673",
   "metadata": {},
   "outputs": [
    {
     "data": {
      "text/plain": [
       "array([0.81927836, 0.8335511 , 0.69764197, 0.86512685, 0.67781365,\n",
       "       0.6438732 , 0.81960976, 1.0885804 , 0.9902247 , 1.0853577 ,\n",
       "       1.108504  , 1.0935786 ], dtype=float32)"
      ]
     },
     "execution_count": 58,
     "metadata": {},
     "output_type": "execute_result"
    }
   ],
   "source": [
    "y_hat[-1]"
   ]
  },
  {
   "cell_type": "code",
   "execution_count": 60,
   "id": "75895418-5496-4bd9-8ff2-2abcb9f3639e",
   "metadata": {},
   "outputs": [],
   "source": [
    "x = five_scaler.inverse_transform(y_hat[-1].reshape(-1,1))"
   ]
  },
  {
   "cell_type": "code",
   "execution_count": 61,
   "id": "123a14be-b2c7-4008-8409-186701a249a5",
   "metadata": {},
   "outputs": [
    {
     "data": {
      "text/plain": [
       "array([[54766332.],\n",
       "       [55271332.],\n",
       "       [50462556.],\n",
       "       [56388556.],\n",
       "       [49760984.],\n",
       "       [48560096.],\n",
       "       [54778056.],\n",
       "       [64294852.],\n",
       "       [60814804.],\n",
       "       [64180824.],\n",
       "       [64999800.],\n",
       "       [64471700.]], dtype=float32)"
      ]
     },
     "execution_count": 61,
     "metadata": {},
     "output_type": "execute_result"
    }
   ],
   "source": [
    "x"
   ]
  },
  {
   "cell_type": "code",
   "execution_count": null,
   "id": "e67ad13f-7cae-4a96-abb3-130b45080c5d",
   "metadata": {},
   "outputs": [],
   "source": []
  },
  {
   "cell_type": "code",
   "execution_count": null,
   "id": "3f68f71d-7b4b-4753-84e4-8a089148e39e",
   "metadata": {},
   "outputs": [],
   "source": []
  },
  {
   "cell_type": "code",
   "execution_count": null,
   "id": "57b7aeb9-0eef-4a1b-8427-f4e31fa439ea",
   "metadata": {},
   "outputs": [],
   "source": []
  },
  {
   "cell_type": "code",
   "execution_count": null,
   "id": "37bbea4e-0246-4749-b2a8-3af0e5d90d45",
   "metadata": {},
   "outputs": [],
   "source": []
  },
  {
   "cell_type": "code",
   "execution_count": null,
   "id": "d60ef614-b141-4642-aebd-b8aa6e330439",
   "metadata": {},
   "outputs": [],
   "source": []
  },
  {
   "cell_type": "code",
   "execution_count": null,
   "id": "7b3e6cf6-273a-416b-97a3-6ca920787ec2",
   "metadata": {},
   "outputs": [],
   "source": []
  },
  {
   "cell_type": "code",
   "execution_count": null,
   "id": "23541528-2ef8-4c78-8953-20d6a896332f",
   "metadata": {},
   "outputs": [],
   "source": []
  }
 ],
 "metadata": {
  "kernelspec": {
   "display_name": "Python 3 (ipykernel)",
   "language": "python",
   "name": "python3"
  },
  "language_info": {
   "codemirror_mode": {
    "name": "ipython",
    "version": 3
   },
   "file_extension": ".py",
   "mimetype": "text/x-python",
   "name": "python",
   "nbconvert_exporter": "python",
   "pygments_lexer": "ipython3",
   "version": "3.11.7"
  }
 },
 "nbformat": 4,
 "nbformat_minor": 5
}
